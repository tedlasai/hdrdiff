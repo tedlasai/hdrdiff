{
 "cells": [
  {
   "cell_type": "code",
   "execution_count": 23,
   "id": "5fbe937a",
   "metadata": {},
   "outputs": [
    {
     "name": "stdout",
     "output_type": "stream",
     "text": [
      "The autoreload extension is already loaded. To reload it, use:\n",
      "  %reload_ext autoreload\n"
     ]
    }
   ],
   "source": [
    "%load_ext autoreload\n",
    "%autoreload 2"
   ]
  },
  {
   "cell_type": "code",
   "execution_count": 24,
   "id": "cbae6fbf",
   "metadata": {},
   "outputs": [],
   "source": [
    "import numpy as np\n",
    "import cv2\n",
    "import os\n",
    "import imageio.v2 as imageio  # v2 for imwrite consistency\n"
   ]
  },
  {
   "cell_type": "code",
   "execution_count": 25,
   "id": "54fa7a09",
   "metadata": {},
   "outputs": [
    {
     "name": "stdout",
     "output_type": "stream",
     "text": [
      "Loaded video shape: (13, 480, 832, 3)\n",
      "Max value in video_array: 1.0\n",
      "Min value in video_array: 0.0\n"
     ]
    }
   ],
   "source": [
    "def video_to_array(video_path: str) -> np.ndarray:\n",
    "    \"\"\"\n",
    "    Read all frames from a video into a NumPy array.\n",
    "\n",
    "    Args:\n",
    "        video_path: Path to input video file.\n",
    "\n",
    "    Returns:\n",
    "        np.ndarray of shape (num_frames, H, W, 3), dtype=uint8 (BGR order).\n",
    "    \"\"\"\n",
    "    cap = cv2.VideoCapture(video_path)\n",
    "    if not cap.isOpened():\n",
    "        raise RuntimeError(f\"Cannot open video: {video_path}\")\n",
    "\n",
    "    frames = []\n",
    "    while True:\n",
    "        ok, frame = cap.read()\n",
    "        if not ok:\n",
    "            break\n",
    "        frames.append(frame)\n",
    "\n",
    "    cap.release()\n",
    "    return np.stack(frames, axis=0)\n",
    "\n",
    "# output_path = \"/data2/saikiran.tedla/hdrvideo/diff/stuttgart_output.mp4\"\n",
    "# video_array = video_to_array(output_path)/255\n",
    "\n",
    "\n",
    "np_path = \"/data2/saikiran.tedla/hdrvideo/diff/stuttgart_output.npy\"\n",
    "video_array = np.load(np_path)  # Load from .npy file if available\n",
    "video_array = video_array.transpose (1,2,3,0) * 0.5 + 0.5  # Convert from (C,T,H,W) to (T,H,W,C)\n",
    "video_array = video_array[:,:,:,::-1]  # Convert from RGB to BGR\n",
    "print(\"Loaded video shape:\", video_array.shape)\n",
    "#print max and min of video_array\n",
    "print(\"Max value in video_array:\", np.max(video_array))\n",
    "print(\"Min value in video_array:\", np.min(video_array))\n",
    "\n",
    "# #np.mean(np.abs(video_array - quantized_video_array))  # Check difference between two arrays\n"
   ]
  },
  {
   "cell_type": "code",
   "execution_count": 26,
   "id": "da4e28c4",
   "metadata": {},
   "outputs": [
    {
     "name": "stdout",
     "output_type": "stream",
     "text": [
      "Video shape: (13, 480, 832, 3), dtype: float32\n",
      "Mean of frame: 1.1839157\n",
      "Mean of frame: 1.169149\n",
      "Mean of frame: 1.3717998\n",
      "Mean of frame: 1.1782614\n"
     ]
    }
   ],
   "source": [
    "print(f\"Video shape: {video_array.shape}, dtype: {video_array.dtype}\")\n",
    "\n",
    "from utils import process_bracketed_video\n",
    "\n",
    "\n",
    "\n",
    "def output_hdr_video(hdr_video, out_folder):\n",
    "    os.makedirs(out_folder, exist_ok=True)\n",
    "    #write out each frame of hdr_video to path as .rad file\n",
    "    N, H, W, _ = hdr_video.shape\n",
    "    for i in range(N):\n",
    "        frame = hdr_video[i]\n",
    "        filename = f\"{out_folder}/frame_{i:04d}.hdr\"\n",
    "        print(\"Mean of frame:\", np.mean(frame))\n",
    "        cv2.imwrite(filename, frame)  # Save as .hdr image\n",
    "        \n",
    "hdr_video = process_bracketed_video(video_array)\n",
    "output_hdr_video(hdr_video, \"/data2/saikiran.tedla/hdrvideo/diff/my_hdr_frames\")\n",
    "    \n",
    "\n",
    "\n"
   ]
  }
 ],
 "metadata": {
  "kernelspec": {
   "display_name": "anyedit",
   "language": "python",
   "name": "python3"
  },
  "language_info": {
   "codemirror_mode": {
    "name": "ipython",
    "version": 3
   },
   "file_extension": ".py",
   "mimetype": "text/x-python",
   "name": "python",
   "nbconvert_exporter": "python",
   "pygments_lexer": "ipython3",
   "version": "3.10.12"
  }
 },
 "nbformat": 4,
 "nbformat_minor": 5
}
