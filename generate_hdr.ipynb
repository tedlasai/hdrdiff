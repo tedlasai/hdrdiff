{
 "cells": [
  {
   "cell_type": "code",
   "execution_count": 51,
   "id": "5fbe937a",
   "metadata": {},
   "outputs": [
    {
     "name": "stdout",
     "output_type": "stream",
     "text": [
      "The autoreload extension is already loaded. To reload it, use:\n",
      "  %reload_ext autoreload\n"
     ]
    }
   ],
   "source": [
    "%load_ext autoreload\n",
    "%autoreload 2"
   ]
  },
  {
   "cell_type": "code",
   "execution_count": 52,
   "id": "cbae6fbf",
   "metadata": {},
   "outputs": [],
   "source": [
    "import numpy as np\n",
    "import cv2\n",
    "import os\n",
    "import imageio.v2 as imageio  # v2 for imwrite consistency\n"
   ]
  },
  {
   "cell_type": "code",
   "execution_count": 53,
   "id": "54fa7a09",
   "metadata": {},
   "outputs": [
    {
     "name": "stdout",
     "output_type": "stream",
     "text": [
      "Loaded video shape: (13, 480, 832, 3)\n",
      "Max value in video_array: 1.0\n",
      "Min value in video_array: 0.0\n"
     ]
    }
   ],
   "source": [
    "def video_to_array(video_path: str) -> np.ndarray:\n",
    "    \"\"\"\n",
    "    Read all frames from a video into a NumPy array.\n",
    "\n",
    "    Args:\n",
    "        video_path: Path to input video file.\n",
    "\n",
    "    Returns:\n",
    "        np.ndarray of shape (num_frames, H, W, 3), dtype=uint8 (BGR order).\n",
    "    \"\"\"\n",
    "    cap = cv2.VideoCapture(video_path)\n",
    "    if not cap.isOpened():\n",
    "        raise RuntimeError(f\"Cannot open video: {video_path}\")\n",
    "\n",
    "    frames = []\n",
    "    while True:\n",
    "        ok, frame = cap.read()\n",
    "        if not ok:\n",
    "            break\n",
    "        frames.append(frame)\n",
    "\n",
    "    cap.release()\n",
    "    return np.stack(frames, axis=0)\n",
    "\n",
    "#output_path = \"/data2/saikiran.tedla/hdrvideo/diff/stuttgart_output.mp4\"\n",
    "#video_array = video_to_array(output_path)/255\n",
    "\n",
    "\n",
    "np_path = \"/data2/saikiran.tedla/hdrvideo/diff/stuttgart_output.npy\"\n",
    "video_array = np.load(np_path)  # Load from .npy file if available\n",
    "video_array = video_array.transpose (1,2,3,0) * 0.5 + 0.5  # Convert from (C,T,H,W) to (T,H,W,C)\n",
    "video_array = video_array[:,:,:,::-1]  # Convert from RGB to BGR\n",
    "print(\"Loaded video shape:\", video_array.shape)\n",
    "#print max and min of video_array\n",
    "print(\"Max value in video_array:\", np.max(video_array))\n",
    "print(\"Min value in video_array:\", np.min(video_array))\n",
    "\n",
    "# #np.mean(np.abs(video_array - quantized_video_array))  # Check difference between two arrays\n"
   ]
  },
  {
   "cell_type": "code",
   "execution_count": 54,
   "id": "da4e28c4",
   "metadata": {},
   "outputs": [
    {
     "name": "stdout",
     "output_type": "stream",
     "text": [
      "Video shape: (13, 480, 832, 3), dtype: float32\n",
      "Mean of frame: 0.4598408\n",
      "Mean of frame: 0.4528929\n",
      "Mean of frame: 0.5140879\n",
      "Mean of frame: 0.46188203\n"
     ]
    }
   ],
   "source": [
    "print(f\"Video shape: {video_array.shape}, dtype: {video_array.dtype}\")\n",
    "\n",
    "normal_exposure = video_array[1:5] #EV 0\n",
    "low_exposure = video_array[5:9] #EV -4\n",
    "high_exposure = video_array[9:13] #EV +4\n",
    "\n",
    "normal_radiance = normal_exposure\n",
    "low_radiance = low_exposure * (2 ** 4)  # EV -4\n",
    "high_radiance = high_exposure * (2 ** -4)  # EV +4\n",
    "\n",
    "#weight function is a hat function\n",
    "def weight_function(video):\n",
    "    \"\"\"\n",
    "    Compute weight map for the input video frames.\n",
    "\n",
    "    Args:\n",
    "        video: np.ndarray of shape (N, H, W, 3), input video frames.\n",
    "    Returns:\n",
    "        np.ndarray of shape (N, H, W, 3), weight maps.\n",
    "    \"\"\"\n",
    "    mid = 0.5\n",
    "    weight = np.abs(video - mid)\n",
    "    return weight\n",
    "\n",
    "def merge_hdr(low_exposure, normal_exposure, high_exposure, low_radiance, normal_radiance, high_radiance):\n",
    "    \"\"\"\n",
    "    Merge low, normal, and high exposure images into an HDR image.\n",
    "\n",
    "    Args:\n",
    "        low_exposure: np.ndarray of shape (N, H, W, 3), low exposure images.\n",
    "        normal_exposure: np.ndarray of shape (N, H, W, 3), normal exposure images.\n",
    "        high_exposure: np.ndarray of shape (N, H, W, 3), high exposure images.\n",
    "    Returns:\n",
    "        np.ndarray of shape (N, H, W, 3)\n",
    "    \"\"\"\n",
    "    w_low = weight_function(low_exposure)\n",
    "    w_normal = weight_function(normal_exposure)\n",
    "    w_high = weight_function(high_exposure)\n",
    "\n",
    "    numerator = (w_low * low_radiance) + (w_normal * normal_radiance) + (w_high * high_radiance)\n",
    "    denominator = w_low + w_normal + w_high + 1e-8  # Avoid division by zero\n",
    "\n",
    "    hdr_image = numerator / denominator\n",
    "    return hdr_image\n",
    "\n",
    "\n",
    "def output_hdr_video(hdr_video, out_folder):\n",
    "    os.makedirs(out_folder, exist_ok=True)\n",
    "    #write out each frame of hdr_video to path as .rad file\n",
    "    N, H, W, _ = hdr_video.shape\n",
    "    for i in range(N):\n",
    "        frame = hdr_video[i]\n",
    "        filename = f\"{out_folder}/frame_{i:04d}.hdr\"\n",
    "        print(\"Mean of frame:\", np.mean(frame))\n",
    "        cv2.imwrite(filename, frame)  # Save as .hdr image\n",
    "        \n",
    "hdr_video = merge_hdr(low_exposure, normal_exposure, high_exposure, low_radiance, normal_radiance, high_radiance)\n",
    "output_hdr_video(hdr_video, \"/data2/saikiran.tedla/hdrvideo/diff/my_hdr_frames\")\n",
    "    \n",
    "\n",
    "\n"
   ]
  }
 ],
 "metadata": {
  "kernelspec": {
   "display_name": "anyedit",
   "language": "python",
   "name": "python3"
  },
  "language_info": {
   "codemirror_mode": {
    "name": "ipython",
    "version": 3
   },
   "file_extension": ".py",
   "mimetype": "text/x-python",
   "name": "python",
   "nbconvert_exporter": "python",
   "pygments_lexer": "ipython3",
   "version": "3.10.12"
  }
 },
 "nbformat": 4,
 "nbformat_minor": 5
}
